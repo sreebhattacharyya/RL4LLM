{
  "nbformat": 4,
  "nbformat_minor": 0,
  "metadata": {
    "colab": {
      "provenance": [],
      "collapsed_sections": [
        "SrmuTAioIdY7"
      ],
      "toc_visible": true
    },
    "kernelspec": {
      "name": "python3",
      "display_name": "Python 3"
    },
    "language_info": {
      "name": "python"
    }
  },
  "cells": [
    {
      "cell_type": "markdown",
      "source": [
        "#**Perception of Fairness in Large Language Models**\n",
        "\n",
        "The purpose of this study is to understand the \"Perception of Fairness\" in LLMs. For this we adopt an approach of asking 3 different LLMs questions about distributive justice that have been asked to human subjects in previous studies. Through various experimental variations, we aim to identify trends in the reasoning, choices, and variations in the responses that provide insights into what is encoded as the definition of fairness in the data LLMs are trained on.\n",
        "\n",
        "**Variations**\n",
        "- 3 LLMs, (i) Gemini (G), (ii) ChatGPT (C), and (iii) LLaMa (L)\n",
        "- 10 instances of fair division from [Herreiner and Puppe [2007]](https://www-degruyter-com.ezaccess.libraries.psu.edu/document/doi/10.1515/auk-2007-0208/html) [HP07]. Other sources for instances: [Herreiner and Puppe [2010]](https://doi-org.ezaccess.libraries.psu.edu/10.1016/j.jebo.2010.06.002) [HP10] (indivisible resources), [Engelmann and Strobel [2004]](https://www.jstor.org/stable/3592796) [ES04] (income), [Konow [2003]](https://www.jstor.org/stable/3217459) [Konow03] (equity).\n",
        "- Two ways of asking the question, (i) as a word problem (WP) or (ii) with a valuation table (VT).\n",
        "- Two types of prompts, (i) vanilla prompt (VP), (ii) restricting the model to a single, best answer (SB), and (iii) asking for top-k answers (TK).\n",
        "- Possible variations: Chain of Thought prompting, asking multiple questions in the same prompt, ask to provide reasoning, ranking followed by aggregation.\n",
        "- Possible next steps: finetuning models with sample questions and answers.\n",
        "\n",
        "**Metrics**\n",
        "- Valid allocation: Is one item received in-entirety by only one recipient?\n",
        "- Valid arithmetic: Does the LLM use proper addition and subtraction, and does it identify and compare values correctly?\n",
        "- Logical consistency: Does the LLM provide correct and coherent arguments?\n",
        "- Attempted outcome: What notion does the LLM think is satisfied by the selected outcome?\n",
        "- Apparent outcome: What notion is actually satisfied by the selected outcome?\n",
        "- Attempted procedure: What procedure does the LLM claim to have applied?\n",
        "- Apparent procedure: What procedure does the LLM actually apply?\n",
        "- Actual support: What percentage of respondents chose the selected allocation when the study was conducted with human subjects?\n",
        "- Clear winner: Does the LLM designate a single allocation as the fairest amongst the possible options?\n",
        "\n",
        "**Distributional Fairness Notions**\n",
        "- Envy-freeness (EF)\n",
        "- Inequality Aversion (IA)\n",
        "- Rawlsian Maximin (RMM)\n",
        "- Utilitarian Social Welfare (USW)\n",
        "- Pareto Optimality (PO)\n",
        "- Proportionality (Prop)\n",
        "- Maximin Share Guarantee (MMS)\n",
        "- Equity (of Need or Merit)\n",
        "\n",
        "**Procedures of Fairness**\n",
        "- Highest valued good: give each person what they value the most.\n",
        "- USW: give each good to the person who values it the most.\n",
        "- Round-robin/Draft mechanism\n",
        "- Adjusted Winner mechanism\n",
        "\n"
      ],
      "metadata": {
        "id": "mMCk9_0o3g2n"
      }
    },
    {
      "cell_type": "markdown",
      "source": [
        "#Setup"
      ],
      "metadata": {
        "id": "SrmuTAioIdY7"
      }
    },
    {
      "cell_type": "code",
      "execution_count": null,
      "metadata": {
        "id": "ex3yOUUTphcj"
      },
      "outputs": [],
      "source": [
        "!pip install -q -U google-generativeai"
      ]
    },
    {
      "cell_type": "code",
      "source": [
        "import pathlib\n",
        "import textwrap\n",
        "\n",
        "import google.generativeai as genai\n",
        "\n",
        "from IPython.display import display\n",
        "from IPython.display import Markdown\n",
        "\n",
        "\n",
        "def to_markdown(text):\n",
        "  text = text.replace('•', '  *')\n",
        "  return Markdown(textwrap.indent(text, '> ', predicate=lambda _: True))"
      ],
      "metadata": {
        "id": "myb__nV3prz_"
      },
      "execution_count": null,
      "outputs": []
    },
    {
      "cell_type": "code",
      "source": [
        "# Used to securely store your API key\n",
        "from google.colab import userdata"
      ],
      "metadata": {
        "id": "hqXyL2agpwz0"
      },
      "execution_count": null,
      "outputs": []
    },
    {
      "cell_type": "code",
      "source": [
        "# Or use `os.getenv('GOOGLE_API_KEY')` to fetch an environment variable.\n",
        "GOOGLE_API_KEY=userdata.get('GOOGLE_API_KEY')\n",
        "\n",
        "genai.configure(api_key=GOOGLE_API_KEY)"
      ],
      "metadata": {
        "id": "APqj1DHmpzIl"
      },
      "execution_count": null,
      "outputs": []
    },
    {
      "cell_type": "code",
      "source": [
        "for m in genai.list_models():\n",
        "  if 'generateContent' in m.supported_generation_methods:\n",
        "    print(m.name)"
      ],
      "metadata": {
        "colab": {
          "base_uri": "https://localhost:8080/",
          "height": 124
        },
        "id": "1I4JR8VSp1KX",
        "outputId": "8a57c0a7-01bc-4d95-b484-53a6478e946b"
      },
      "execution_count": null,
      "outputs": [
        {
          "output_type": "stream",
          "name": "stdout",
          "text": [
            "models/gemini-1.0-pro\n",
            "models/gemini-1.0-pro-001\n",
            "models/gemini-1.0-pro-latest\n",
            "models/gemini-1.0-pro-vision-latest\n",
            "models/gemini-pro\n",
            "models/gemini-pro-vision\n"
          ]
        }
      ]
    },
    {
      "cell_type": "code",
      "source": [
        "model = genai.GenerativeModel('gemini-1.0-pro-latest')"
      ],
      "metadata": {
        "id": "QWTH10z8p6Qn"
      },
      "execution_count": null,
      "outputs": []
    },
    {
      "cell_type": "markdown",
      "source": [
        "#Experiments"
      ],
      "metadata": {
        "id": "dBMFE3nIIiEK"
      }
    },
    {
      "cell_type": "markdown",
      "source": [
        "##Variation 1: G-HP07-WP-VP"
      ],
      "metadata": {
        "id": "ov30wOdnAwqU"
      }
    },
    {
      "cell_type": "markdown",
      "source": [
        "###Text description"
      ],
      "metadata": {
        "id": "VJD6qZOi5j6V"
      }
    },
    {
      "cell_type": "markdown",
      "source": [
        "####Problem 1"
      ],
      "metadata": {
        "id": "2XGi0HJh9I14"
      }
    },
    {
      "cell_type": "code",
      "source": [
        "# Example taken from Herreiner and Puppe (2007)\n",
        "prompt = \"Consider a problem where goods need to be allocated among different individuals. \\\n",
        "          Imagine that the individuals involved, i.e. Person 1 and Person 2, approach you\\\n",
        "          and ask you to determine a fair allocation of 3 available goods, namely A, B, and C. \\\n",
        "          The goods to be allocated are indivisible, that is, you have to give the good as a whole to one person \\\n",
        "          or you can decide to not alocate it at all, i.e., you throw it away. \\\n",
        "          Your task is to determine the allocation that you consider to be the fairest - there are no 'correct' or 'incorrect' answers.\\\n",
        "          Person 1's value for good A is 49, for good B is 46, and for good C is 5.\\\n",
        "          Person 2's value for good A is 47, for good B is 48, and for good C is 5.\""
      ],
      "metadata": {
        "id": "JH9Oizx2ChwX"
      },
      "execution_count": null,
      "outputs": []
    },
    {
      "cell_type": "markdown",
      "source": [
        "#####Iteration 1"
      ],
      "metadata": {
        "id": "I12oqUvA9N9A"
      }
    },
    {
      "cell_type": "code",
      "source": [
        "%%time\n",
        "response = model.generate_content(prompt)"
      ],
      "metadata": {
        "colab": {
          "base_uri": "https://localhost:8080/",
          "height": 53
        },
        "outputId": "860e54cd-4338-4f42-ec15-4c58dd6aa587",
        "id": "iNBbWAAICdm5"
      },
      "execution_count": null,
      "outputs": [
        {
          "output_type": "stream",
          "name": "stdout",
          "text": [
            "CPU times: user 66.8 ms, sys: 5.67 ms, total: 72.5 ms\n",
            "Wall time: 4.18 s\n"
          ]
        }
      ]
    },
    {
      "cell_type": "code",
      "source": [
        "to_markdown(response.text)"
      ],
      "metadata": {
        "colab": {
          "base_uri": "https://localhost:8080/",
          "height": 208
        },
        "outputId": "7c8a9f72-210d-422c-897e-ba760a715f6c",
        "id": "UMtpybNHCdm6"
      },
      "execution_count": null,
      "outputs": [
        {
          "output_type": "execute_result",
          "data": {
            "text/plain": [
              "<IPython.core.display.Markdown object>"
            ],
            "text/markdown": "> Based on the information provided, it seems that both Person 1 and Person 2 value Good B the most. Therefore, I would allocate Good B to the person who values it more, which in this case is Person 2.\n> \n> Next, Person 1 values Good A more than Good C, while Person 2 values Good A and Good C equally. To ensure a fair allocation, I would assign Good A to Person 1 and Good C to Person 2.\n> \n> Therefore, my allocation would be:\n> \n> Person 1: Good A\n> Person 2: Good B, Good C\n> \n> This allocation takes into consideration the preferences of both individuals and aims to distribute the goods in a way that maximizes their overall satisfaction."
          },
          "metadata": {},
          "execution_count": 30
        }
      ]
    },
    {
      "cell_type": "markdown",
      "source": [
        "1. Valid allocation: yes\n",
        "2. Valid arithmetic: no\n",
        "3. Logically consistent: no\n",
        "4. Attempted outcome: USW\n",
        "5. Apparent outcome: USW\n",
        "6. Attempted procedure: Highest valued good + USW\n",
        "7. Apparent procedure: USW\n",
        "8. Actual support: 23.2%\n",
        "9. Clear winner: yes\n"
      ],
      "metadata": {
        "id": "E3vk0uv8Ehpl"
      }
    },
    {
      "cell_type": "markdown",
      "source": [
        "#####Iteration 2"
      ],
      "metadata": {
        "id": "VzRwIuap9WOM"
      }
    },
    {
      "cell_type": "code",
      "source": [
        "%%time\n",
        "response = model.generate_content(prompt)"
      ],
      "metadata": {
        "colab": {
          "base_uri": "https://localhost:8080/",
          "height": 53
        },
        "outputId": "6d88f4b4-451e-4524-80eb-dc31c9bdd2e5",
        "id": "P6abNiJZ9WOO"
      },
      "execution_count": null,
      "outputs": [
        {
          "output_type": "stream",
          "name": "stdout",
          "text": [
            "CPU times: user 75.1 ms, sys: 9.4 ms, total: 84.5 ms\n",
            "Wall time: 5.45 s\n"
          ]
        }
      ]
    },
    {
      "cell_type": "code",
      "source": [
        "to_markdown(response.text)"
      ],
      "metadata": {
        "colab": {
          "base_uri": "https://localhost:8080/",
          "height": 377
        },
        "outputId": "5b539686-6765-441c-efe1-4be4eca4a559",
        "id": "GUXqkhE69WOO"
      },
      "execution_count": null,
      "outputs": [
        {
          "output_type": "execute_result",
          "data": {
            "text/plain": [
              "<IPython.core.display.Markdown object>"
            ],
            "text/markdown": "> Allocation 1:\n> \n> - Person 1 receives good A. (value 49)\n> - Person 2 receives good B. (value 49)\n> - Good C is not allocated. (value 5)\n> \n> Total value of the allocation: 49 + 48 = 97\n> \n> Allocation 2:\n> \n> - Person 1 receives good B. (value 46)\n> - Person 2 receives good A. (value 47)\n> - Good C is not allocated. (value 5)\n> \n> Total value of the allocation: 46 + 47 = 93\n> \n> Allocation 3:\n> \n> - Person 1 receives good A and C. (value 49 + 5 = 54)\n> - Person 2 receives good B. (value 48)\n> \n> Total value of the allocation: 54 + 48 = 102\n> \n> I consider Allocation 3 to be the fairest because it results in the highest total value of the allocation. Both individuals receive a good that they value highly, and there is no need to discard any of the goods."
          },
          "metadata": {},
          "execution_count": 32
        }
      ]
    },
    {
      "cell_type": "markdown",
      "source": [
        "1. Valid allocation: yes\n",
        "2. Valid arithmetic: yes\n",
        "3. Logically consistent: yes\n",
        "4. Attempted outcome: USW\n",
        "5. Apparent outcome: USW\n",
        "6. Attempted procedure: Highest valued good\n",
        "7. Apparent procedure: USW\n",
        "8. Actual support: 0%\n",
        "9. Clear winner: yes"
      ],
      "metadata": {
        "id": "XjXeZrui9WOO"
      }
    },
    {
      "cell_type": "markdown",
      "source": [
        "#####Iteration 3"
      ],
      "metadata": {
        "id": "3VWWjooo-uI_"
      }
    },
    {
      "cell_type": "code",
      "source": [
        "%%time\n",
        "response = model.generate_content(prompt)"
      ],
      "metadata": {
        "colab": {
          "base_uri": "https://localhost:8080/",
          "height": 53
        },
        "outputId": "351afff4-d9fc-4ce6-971b-a9ccf287cc06",
        "id": "MsOVSFwn-uI_"
      },
      "execution_count": null,
      "outputs": [
        {
          "output_type": "stream",
          "name": "stdout",
          "text": [
            "CPU times: user 92.1 ms, sys: 11.8 ms, total: 104 ms\n",
            "Wall time: 6.64 s\n"
          ]
        }
      ]
    },
    {
      "cell_type": "code",
      "source": [
        "to_markdown(response.text)"
      ],
      "metadata": {
        "colab": {
          "base_uri": "https://localhost:8080/",
          "height": 534
        },
        "outputId": "f09dcdcc-6a82-4dfc-dedb-971cc9e1c048",
        "id": "lCZ_TfMi-uI_"
      },
      "execution_count": null,
      "outputs": [
        {
          "output_type": "execute_result",
          "data": {
            "text/plain": [
              "<IPython.core.display.Markdown object>"
            ],
            "text/markdown": "> **Allocation 1:**\n> \n> * Person 1 receives good A.\n> * Person 2 receives good B.\n> * Good C is not allocated (thrown away).\n> \n> **Reasoning:**\n> \n> This allocation is fair because it gives each person the good that they value the most. Person 1 values good A the most (49), and Person 2 values good B the most (48). By giving each person the good that they value the most, we are maximizing the total value of the allocation.\n> \n> **Allocation 2:**\n> \n> * Person 1 receives good B.\n> * Person 2 receives good C.\n> * Good A is not allocated (thrown away).\n> \n> **Reasoning:**\n> \n> This allocation is also fair because it gives each person the good that they value the second most. Person 1 values good B the second most (46), and Person 2 values good C the second most (5). By giving each person the good that they value the second most, we are maximizing the total value of the allocation.\n> \n> **Allocation 3:**\n> \n> * Person 1 receives good C.\n> * Person 2 receives good A.\n> * Good B is not allocated (thrown away).\n> \n> **Reasoning:**\n> \n> This allocation is not as fair as the first two allocations because it does not give either person the good that they value the most or the second most. However, it is still a fair allocation because it gives each person a good that they value at least somewhat. Person 1 values good C the third most (5), and Person 2 values good A the third most (47).\n> \n> Ultimately, the decision of which allocation to choose is up to you. There is no right or wrong answer, as long as you can justify your decision."
          },
          "metadata": {},
          "execution_count": 34
        }
      ]
    },
    {
      "cell_type": "markdown",
      "source": [
        "1. Valid allocation: yes\n",
        "2. Valid arithmetic: no\n",
        "3. Logically consistent: no\n",
        "4. Attempted outcome: IA + USW\n",
        "5. Apparent outcome: IA\n",
        "6. Attempted procedure: USW + IA\n",
        "7. Apparent procedure: IA\n",
        "8. Actual support: 70.4% (one)\n",
        "9. Clear winner: no\n",
        "\n",
        "Experimental decision: If an allocation among those proposed by human subjects is returned by the LLM, the \"Actual Support\" metric contains the percentage of respondents who selected that allocation, if no other allocation is clearly demarcated as the strongest one by the LLM."
      ],
      "metadata": {
        "id": "8EddpcgQ-uJA"
      }
    },
    {
      "cell_type": "markdown",
      "source": [
        "#####Iteration 4"
      ],
      "metadata": {
        "id": "xYSYUE-hVbDS"
      }
    },
    {
      "cell_type": "code",
      "source": [
        "%%time\n",
        "response = model.generate_content(prompt)"
      ],
      "metadata": {
        "colab": {
          "base_uri": "https://localhost:8080/",
          "height": 53
        },
        "outputId": "97692e3e-4aa3-45ae-895b-a23780918a37",
        "id": "kRTJT-ugVbDT"
      },
      "execution_count": null,
      "outputs": [
        {
          "output_type": "stream",
          "name": "stdout",
          "text": [
            "CPU times: user 154 ms, sys: 15.4 ms, total: 169 ms\n",
            "Wall time: 14.5 s\n"
          ]
        }
      ]
    },
    {
      "cell_type": "code",
      "source": [
        "to_markdown(response.text)"
      ],
      "metadata": {
        "colab": {
          "base_uri": "https://localhost:8080/",
          "height": 219
        },
        "outputId": "61a7649e-b7bf-4ec6-b160-dd8044ad6ddd",
        "id": "YQ0TtsO0VbDT"
      },
      "execution_count": null,
      "outputs": [
        {
          "output_type": "execute_result",
          "data": {
            "text/plain": [
              "<IPython.core.display.Markdown object>"
            ],
            "text/markdown": "> **Allocation:**\n> \n> * Person 1: Good A and Good C\n> * Person 2: Good B\n> \n> **Reasoning:**\n> \n> * I have allocated Good A and Good C to Person 1 because they have a higher total value for these goods compared to Person 2. Person 1 values Good A at 49 and Good C at 5, for a total of 54. Person 2 values Good A at 47 and Good C at 5, for a total of 52.\n> * I have allocated Good B to Person 2 because they have a higher value for this good compared to Person 1. Person 1 values Good B at 46, while Person 2 values it at 48.\n> * This allocation ensures that both individuals receive goods that they value highly, resulting in a fair distribution of the available resources."
          },
          "metadata": {},
          "execution_count": 36
        }
      ]
    },
    {
      "cell_type": "markdown",
      "source": [
        "1. Valid allocation: yes\n",
        "2. Valid arithmetic: no\n",
        "3. Logically consistent: no\n",
        "4. Attempted outcome: USW\n",
        "5. Apparent outcome: USW\n",
        "6. Attempted procedure: Highly valued goods\n",
        "7. Apparent procedure: USW\n",
        "8. Actual support: 0%\n",
        "9. Clear winner: yes"
      ],
      "metadata": {
        "id": "NqTrjisZVbDT"
      }
    },
    {
      "cell_type": "markdown",
      "source": [
        "#####Iteration 5"
      ],
      "metadata": {
        "id": "TYfVyAdoW5XJ"
      }
    },
    {
      "cell_type": "code",
      "source": [
        "%%time\n",
        "response = model.generate_content(prompt)"
      ],
      "metadata": {
        "colab": {
          "base_uri": "https://localhost:8080/",
          "height": 53
        },
        "outputId": "2043014a-f69f-4719-f39f-c096453eab9b",
        "id": "kdDZpsX5W5XJ"
      },
      "execution_count": null,
      "outputs": [
        {
          "output_type": "stream",
          "name": "stdout",
          "text": [
            "CPU times: user 72.3 ms, sys: 7.73 ms, total: 80 ms\n",
            "Wall time: 5.27 s\n"
          ]
        }
      ]
    },
    {
      "cell_type": "code",
      "source": [
        "to_markdown(response.text)"
      ],
      "metadata": {
        "colab": {
          "base_uri": "https://localhost:8080/",
          "height": 277
        },
        "outputId": "1b4d0ede-383d-4718-ea04-ba40b0fef7b7",
        "id": "gcjw98JeW5XJ"
      },
      "execution_count": null,
      "outputs": [
        {
          "output_type": "execute_result",
          "data": {
            "text/plain": [
              "<IPython.core.display.Markdown object>"
            ],
            "text/markdown": "> Considering the values assigned to each good by both individuals, I propose the following allocation:\n> \n> - Good A: Person 1\n> - Good B: Person 2\n> - Good C: Not allocated (thrown away)\n> \n> This allocation strategy aims to maximize the total value derived from the goods while ensuring fairness to both individuals.\n> \n> - Person 1 receives Good A, which is their most preferred good with a value of 49.\n> - Person 2 receives Good B, their most preferred good with a value of 48.\n> - Good C, with a value of 5 for both individuals, is not allocated to either person to avoid a small gain for one person at the cost of a larger loss for the other.\n> \n> This approach seeks to balance the interests of both individuals by giving them their most valued goods and discarding the least desirable one. The total value derived from this allocation is 49 + 48 = 97, which is the highest possible value achievable given the preferences and indivisibility of the goods."
          },
          "metadata": {},
          "execution_count": 38
        }
      ]
    },
    {
      "cell_type": "markdown",
      "source": [
        "1. Valid allocation: yes\n",
        "2. Valid arithmetic: no\n",
        "3. Logically consistent: yes\n",
        "4. Attempted outcome: USW+IA\n",
        "5. Apparent outcome: IA\n",
        "6. Attempted procedure: Highest valued good\n",
        "7. Apparent procedure: Highest valued good + IA\n",
        "8. Actual support: 70.4%\n"
      ],
      "metadata": {
        "id": "MnnRl_8fW5XK"
      }
    },
    {
      "cell_type": "markdown",
      "source": [
        "####Problem 2"
      ],
      "metadata": {
        "id": "73GSDoK2X1RF"
      }
    },
    {
      "cell_type": "markdown",
      "source": [
        "#####Iteration 1"
      ],
      "metadata": {
        "id": "IVFD7yIZX1RP"
      }
    },
    {
      "cell_type": "code",
      "source": [
        "# Example taken from Herreiner and Puppe (2007)\n",
        "prompt = \"Consider a problem where goods need to be allocated among different individuals. \\\n",
        "          Imagine that the individuals involved, i.e. Person 1, Person 2, and Person 3, approach you\\\n",
        "          and ask you to determine a fair allocation of 4 available goods, namely A, B, C, and D. \\\n",
        "          The goods to be allocated are indivisible, that is, you have to give the good as a whole to one person \\\n",
        "          or you can decide to not alocate it at all, i.e., you throw it away. \\\n",
        "          Your task is to determine the allocation that you consider to be the fairest - there are no 'correct' or 'incorrect' answers.\\\n",
        "          Person 1's value for good A is 5, for good B is 47, for good C is 45, and for good D is 3.\\\n",
        "          Person 2's value for good A is 45, for good B is 5, for good C is 48, and for good D is 2.\\\n",
        "          Person 3's value for good A is 23, for good B is 25, for good C is 32, and for good D is 20.\""
      ],
      "metadata": {
        "id": "ZCU0Mc8xX1RP"
      },
      "execution_count": null,
      "outputs": []
    },
    {
      "cell_type": "code",
      "source": [
        "%%time\n",
        "response = model.generate_content(prompt)"
      ],
      "metadata": {
        "colab": {
          "base_uri": "https://localhost:8080/",
          "height": 53
        },
        "outputId": "ba04c0fa-cd3e-46b1-dc26-749101bb7a51",
        "id": "OEsuaObpX1RQ"
      },
      "execution_count": null,
      "outputs": [
        {
          "output_type": "stream",
          "name": "stdout",
          "text": [
            "CPU times: user 120 ms, sys: 8.71 ms, total: 129 ms\n",
            "Wall time: 8.95 s\n"
          ]
        }
      ]
    },
    {
      "cell_type": "code",
      "source": [
        "to_markdown(response.text)"
      ],
      "metadata": {
        "colab": {
          "base_uri": "https://localhost:8080/",
          "height": 644
        },
        "outputId": "8e1ae351-e61a-4825-ba61-213950273e19",
        "id": "TpTtpO2LX1RQ"
      },
      "execution_count": null,
      "outputs": [
        {
          "output_type": "execute_result",
          "data": {
            "text/plain": [
              "<IPython.core.display.Markdown object>"
            ],
            "text/markdown": "> Based on the information provided, a fair allocation of the goods could be as follows:\n> \n> - Person 1: Good A\n> - Person 2: Good B\n> - Person 3: Goods C and D\n> \n> This allocation considers the value that each person places on the goods, ensuring that they receive the items they value the most.\n> \n> Here's a breakdown of the allocation:\n> \n> - **Person 1**: \n>  - Value for Good A: 5 \n>  - Value for Good B: 47 \n>  - Value for Good C: 45 \n>  - Value for Good D: 3\n> \n> Assigning Good A to Person 1 ensures that they receive the item that holds the highest value for them, which is 5. It also prevents Good A from being allocated to Person 2 or Person 3, who value it less.\n> \n> - **Person 2**: \n>  - Value for Good A: 45 \n>  - Value for Good B: 5 \n>  - Value for Good C: 48 \n>  - Value for Good D: 2\n> \n> Allocating Good B to Person 2 maximizes their satisfaction since it has the highest value for them, at 5. Person 2 values Good C almost as much as Good B, but Good C is allocated to Person 3.\n> \n> - **Person 3**: \n>  - Value for Good A: 23 \n>  - Value for Good B: 25 \n>  - Value for Good C: 32 \n>  - Value for Good D: 20\n> \n> Person 3 receives Goods C and D, which are the remaining goods with the highest values for them. This distribution ensures that Person 3's preferences are considered and they receive a fair share of the available goods.\n> \n> This allocation aims to provide a balanced distribution of goods, taking into account the individual preferences and values of Person 1, Person 2, and Person 3. It considers both the highest-valued goods for each person and the overall satisfaction derived from the allocation. While this solution may not be perfect, it represents a fair and reasonable distribution based on the given information."
          },
          "metadata": {},
          "execution_count": 41
        }
      ]
    },
    {
      "cell_type": "markdown",
      "source": [
        "1. Valid allocation: yes\n",
        "2. Valid arithmetic: no\n",
        "3. Logically consistent: no\n",
        "4. Attempted outcome: USW\n",
        "5. Apparent outcome: NA\n",
        "6. Attempted procedure: Highest valued good\n",
        "7. Apparent procedure: NA\n",
        "8. Actual support: 0%\n",
        "\n",
        "\n",
        "Observation: Is '5' greater than '47' because this is being treated like a string instead of a number?"
      ],
      "metadata": {
        "id": "NvX9kA3TX1RQ"
      }
    },
    {
      "cell_type": "markdown",
      "source": [
        "#####Iteration 2"
      ],
      "metadata": {
        "id": "QAPg1EaFX1RQ"
      }
    },
    {
      "cell_type": "code",
      "source": [
        "%%time\n",
        "response = model.generate_content(prompt)"
      ],
      "metadata": {
        "colab": {
          "base_uri": "https://localhost:8080/",
          "height": 53
        },
        "outputId": "f8fccc17-a6a3-4b0e-a650-9bda512665ef",
        "id": "qcUr2RVQX1RQ"
      },
      "execution_count": null,
      "outputs": [
        {
          "output_type": "stream",
          "name": "stdout",
          "text": [
            "CPU times: user 90.2 ms, sys: 8.44 ms, total: 98.7 ms\n",
            "Wall time: 6.03 s\n"
          ]
        }
      ]
    },
    {
      "cell_type": "code",
      "source": [
        "to_markdown(response.text)"
      ],
      "metadata": {
        "colab": {
          "base_uri": "https://localhost:8080/",
          "height": 347
        },
        "outputId": "1df812fb-ec2f-482e-d955-170bb4b91134",
        "id": "QFAj2tP7X1RQ"
      },
      "execution_count": null,
      "outputs": [
        {
          "output_type": "execute_result",
          "data": {
            "text/plain": [
              "<IPython.core.display.Markdown object>"
            ],
            "text/markdown": "> **Allocation:**\n> \n> * Person 1: Good B\n> * Person 2: Good A\n> * Person 3: Good C, Good D\n> \n> **Explanation:**\n> \n> This allocation maximizes the total value of the goods for all three individuals.\n> \n> * Person 1 values Good B the highest at 47, so they receive that good.\n> * Person 2 values Good A the highest at 45, so they receive that good.\n> * Person 3 values Good C and Good D the highest at 32 and 20, respectively, so they receive those goods.\n> \n> This allocation results in the following total values for each person:\n> \n> * Person 1: 47\n> * Person 2: 45\n> * Person 3: 52\n> \n> This allocation is fair because it gives each person the goods that they value the most. No other allocation can result in a higher total value for all three individuals."
          },
          "metadata": {},
          "execution_count": 43
        }
      ]
    },
    {
      "cell_type": "markdown",
      "source": [
        "1. Valid allocation: yes\n",
        "2. Valid arithmetic: yes\n",
        "3. Logically consistent: no\n",
        "4. Attempted outcome: USW\n",
        "5. Apparent outcome: RMM\n",
        "6. Attempted procedure: Highest valued good\n",
        "7. Apparent procedure: NA\n",
        "8. Actual support: 12.7%\n",
        "9. Clear winner: yes"
      ],
      "metadata": {
        "id": "VtURtsNFX1RQ"
      }
    },
    {
      "cell_type": "markdown",
      "source": [
        "#####Iteration 3"
      ],
      "metadata": {
        "id": "IgCNQF-0X1RQ"
      }
    },
    {
      "cell_type": "code",
      "source": [
        "%%time\n",
        "response = model.generate_content(prompt)"
      ],
      "metadata": {
        "colab": {
          "base_uri": "https://localhost:8080/",
          "height": 53
        },
        "outputId": "603dd153-fbff-461d-8fd5-e2b30efaa53e",
        "id": "ZwmBnK3kX1RQ"
      },
      "execution_count": null,
      "outputs": [
        {
          "output_type": "stream",
          "name": "stdout",
          "text": [
            "CPU times: user 78.7 ms, sys: 9.23 ms, total: 88 ms\n",
            "Wall time: 5.55 s\n"
          ]
        }
      ]
    },
    {
      "cell_type": "code",
      "source": [
        "to_markdown(response.text)"
      ],
      "metadata": {
        "colab": {
          "base_uri": "https://localhost:8080/",
          "height": 341
        },
        "outputId": "45cf1216-a3d0-4ff9-dcf3-407dba527e5b",
        "id": "lg3DwCO5X1RQ"
      },
      "execution_count": null,
      "outputs": [
        {
          "output_type": "execute_result",
          "data": {
            "text/plain": [
              "<IPython.core.display.Markdown object>"
            ],
            "text/markdown": "> Allocation:\n> \n> * Person 1: Good A and Good C\n> * Person 2: Good B\n> * Person 3: Good D\n> \n> Explanation:\n> \n> In this allocation, Person 1 receives Goods A and C for a total value of 5 + 45 = 50. Person 2 receives Good B for a value of 47. Person 3 receives Good D for a value of 20.\n> \n> This allocation is considered fair because it gives each person a roughly equal share of the available value. Person 1 and Person 2 each receive goods with a total value of 50, while Person 3 receives a good with a value of 20. This is the closest allocation to an equal distribution of value that is possible given the indivisibility of the goods.\n> \n> Additionally, this allocation takes into account the preferences of each person. For example, Person 1 values Good A and Good C the most, so they were allocated those goods. Similarly, Person 2 values Good B the most, so they were allocated that good. Person 3 had the highest value for Good D, so they were allocated that good.\n> \n> Overall, this allocation is considered fair because it distributes the goods in a way that gives each person a roughly equal share of the total value and considers the preferences of each person."
          },
          "metadata": {},
          "execution_count": 45
        }
      ]
    },
    {
      "cell_type": "markdown",
      "source": [
        "1. Valid allocation: yes\n",
        "2. Valid arithmetic: no\n",
        "3. Logically consistent: no\n",
        "4. Attempted outcome: IA\n",
        "5. Apparent outcome: NA\n",
        "6. Attempted procedure: Highest valued good\n",
        "7. Apparent procedure: NA\n",
        "6. Actual support: 0%"
      ],
      "metadata": {
        "id": "EBjoo22gX1RQ"
      }
    },
    {
      "cell_type": "markdown",
      "source": [
        "#####Iteration 4"
      ],
      "metadata": {
        "id": "QPU0oKx2X1RQ"
      }
    },
    {
      "cell_type": "code",
      "source": [
        "%%time\n",
        "response = model.generate_content(prompt)"
      ],
      "metadata": {
        "colab": {
          "base_uri": "https://localhost:8080/",
          "height": 53
        },
        "outputId": "3a48f250-fc3d-44b7-9580-f1413e63c2f6",
        "id": "8dTE_VB1X1RQ"
      },
      "execution_count": null,
      "outputs": [
        {
          "output_type": "stream",
          "name": "stdout",
          "text": [
            "CPU times: user 108 ms, sys: 9.43 ms, total: 117 ms\n",
            "Wall time: 7.55 s\n"
          ]
        }
      ]
    },
    {
      "cell_type": "code",
      "source": [
        "to_markdown(response.text)"
      ],
      "metadata": {
        "colab": {
          "base_uri": "https://localhost:8080/",
          "height": 446
        },
        "outputId": "b3ca4751-13fd-496c-92a8-8a60400a45ea",
        "id": "1SNadQFwX1RR"
      },
      "execution_count": null,
      "outputs": [
        {
          "output_type": "execute_result",
          "data": {
            "text/plain": [
              "<IPython.core.display.Markdown object>"
            ],
            "text/markdown": "> Allocation:\n> \n> - Person 1 receives good B.\n> - Person 2 receives good C.\n> - Person 3 receives goods A and D.\n> \n> This allocation is considered fair because it maximizes the total value of the goods for all three individuals. Here's how the values add up:\n> \n> - Person 1: 47 (good B)\n> - Person 2: 48 (good C)\n> - Person 3: 23 (good A) + 20 (good D) = 43\n> \n> Total value: 47 + 48 + 43 = 138\n> \n> Alternative allocations may result in a lower total value. For example, if Person 1 received good A instead of Person 3, the total value would be reduced:\n> \n> - Person 1: 5 (good A) + 47 (good B) = 52\n> - Person 2: 48 (good C)\n> - Person 3: 23 (good D)\n> \n> Total value: 52 + 48 + 23 = 123\n> \n> Additionally, this allocation ensures that each person receives at least one good that they value relatively highly. Person 1 receives good B, which they value the highest among all the goods. Person 2 receives good C, which they value the highest among the remaining goods. Person 3 receives goods A and D, which are their first and second highest-valued goods, respectively.\n> \n> Therefore, the allocation of good B to Person 1, good C to Person 2, and goods A and D to Person 3 is considered fair and efficient as it maximizes the total value of the goods while ensuring that each person receives goods that they value."
          },
          "metadata": {},
          "execution_count": 47
        }
      ]
    },
    {
      "cell_type": "markdown",
      "source": [
        "1. Valid allocation: yes\n",
        "2. Valid arithmetic: yes\n",
        "3. Logically consistent: no\n",
        "4. Attempted outcome: USW\n",
        "5. Apparent outcome: EF\n",
        "6. Attempted procedure: Highest valued good\n",
        "7. Apparent procedure: Round robin with RMM\n",
        "8. Actual support: 26.2%\n",
        "9. Clear winner: yes"
      ],
      "metadata": {
        "id": "2Ut-U7NGX1RR"
      }
    },
    {
      "cell_type": "markdown",
      "source": [
        "#####Iteration 5"
      ],
      "metadata": {
        "id": "2gNbfG85X1RR"
      }
    },
    {
      "cell_type": "code",
      "source": [
        "%%time\n",
        "response = model.generate_content(prompt)"
      ],
      "metadata": {
        "colab": {
          "base_uri": "https://localhost:8080/",
          "height": 53
        },
        "outputId": "16b888d6-d662-4dfd-c49e-6154fb24596d",
        "id": "_wTnJ6GIX1RR"
      },
      "execution_count": null,
      "outputs": [
        {
          "output_type": "stream",
          "name": "stdout",
          "text": [
            "CPU times: user 101 ms, sys: 6.51 ms, total: 108 ms\n",
            "Wall time: 6.99 s\n"
          ]
        }
      ]
    },
    {
      "cell_type": "code",
      "source": [
        "to_markdown(response.text)"
      ],
      "metadata": {
        "colab": {
          "base_uri": "https://localhost:8080/",
          "height": 346
        },
        "outputId": "e4736a1e-b3c0-4930-cee9-c0eeda1ab854",
        "id": "iteFXqDyX1RR"
      },
      "execution_count": null,
      "outputs": [
        {
          "output_type": "execute_result",
          "data": {
            "text/plain": [
              "<IPython.core.display.Markdown object>"
            ],
            "text/markdown": "> Based on the information provided, the allocation of goods that I consider to be the fairest is as follows:\n> \n> - Person 1: Good B\n> - Person 2: Good C\n> - Person 3: Good A and Good D\n> \n> **Explanation:**\n> \n> 1. **Person 1**: Assigning Good B to Person 1 results in the highest valuation among all individuals for that particular good. This maximizes the overall satisfaction.\n> \n> 2. **Person 2**: Similarly, giving Good C to Person 2 provides the highest valuation among all individuals for that good. This ensures that the allocation is fair and maximizes satisfaction.\n> \n> 3. **Person 3**: Since multiple valuations are almost equal for Person 3 (23 for Good A and 20 for Good D), it is reasonable to allocate both of these goods to Person 3. This approach ensures that Person 3 receives a fair share of goods with high valuations.\n> \n> The remaining good, which is Good A, can be allocated to Person 3 to further enhance fairness. This is because Person 3 has the highest valuation for Good A among all individuals, and it avoids allocating any goods to a single individual that could potentially result in an unfair distribution.\n> \n> This allocation ensures that each person receives goods that align with their preferences, maximizing overall satisfaction and fairness."
          },
          "metadata": {},
          "execution_count": 49
        }
      ]
    },
    {
      "cell_type": "markdown",
      "source": [
        "1. Valid allocation: yes\n",
        "2. Valid arithmetic: yes\n",
        "3. Logically consistent: no\n",
        "4. Attempted outcome: EF\n",
        "5. Apparent outcome: EF\n",
        "6. Attempted procedure: Round robin for goods\n",
        "7. Apparent procedure: Round robin with RMM\n",
        "8. Actual support: 26.2%"
      ],
      "metadata": {
        "id": "sVhK8rnmX1RR"
      }
    },
    {
      "cell_type": "markdown",
      "source": [
        "Observations:\n",
        "- Most preferred outcome: USW\n",
        "- Most preferred procedure: Highest valued good\n",
        "- Tendency to reduce inequality.\n",
        "- Arithmetic and logical consistency is rare."
      ],
      "metadata": {
        "id": "LAiXNvsIrk4E"
      }
    },
    {
      "cell_type": "code",
      "source": [],
      "metadata": {
        "id": "LYrD01TmrzRB"
      },
      "execution_count": null,
      "outputs": []
    }
  ]
}